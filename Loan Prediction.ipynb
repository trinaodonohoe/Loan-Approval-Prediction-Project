{
 "cells": [
  {
   "cell_type": "code",
   "execution_count": 1,
   "id": "1fb0cd8c",
   "metadata": {},
   "outputs": [],
   "source": [
    "import numpy as np\n",
    "import pandas as pd\n",
    "import matplotlib.pyplot as plt\n",
    "import seaborn as sns"
   ]
  },
  {
   "cell_type": "code",
   "execution_count": 2,
   "id": "1ff98445",
   "metadata": {},
   "outputs": [],
   "source": [
    "df = pd.read_csv('LoanApprovalData.csv')"
   ]
  },
  {
   "cell_type": "code",
   "execution_count": 3,
   "id": "ba7aab33",
   "metadata": {},
   "outputs": [
    {
     "data": {
      "text/html": [
       "<div>\n",
       "<style scoped>\n",
       "    .dataframe tbody tr th:only-of-type {\n",
       "        vertical-align: middle;\n",
       "    }\n",
       "\n",
       "    .dataframe tbody tr th {\n",
       "        vertical-align: top;\n",
       "    }\n",
       "\n",
       "    .dataframe thead th {\n",
       "        text-align: right;\n",
       "    }\n",
       "</style>\n",
       "<table border=\"1\" class=\"dataframe\">\n",
       "  <thead>\n",
       "    <tr style=\"text-align: right;\">\n",
       "      <th></th>\n",
       "      <th>Gender</th>\n",
       "      <th>Married</th>\n",
       "      <th>Dependents</th>\n",
       "      <th>Education</th>\n",
       "      <th>Self_Employed</th>\n",
       "      <th>Applicant_Income</th>\n",
       "      <th>Coapplicant_Income</th>\n",
       "      <th>Loan_Amount</th>\n",
       "      <th>Term</th>\n",
       "      <th>Credit_History</th>\n",
       "      <th>Area</th>\n",
       "      <th>Status</th>\n",
       "    </tr>\n",
       "  </thead>\n",
       "  <tbody>\n",
       "    <tr>\n",
       "      <th>0</th>\n",
       "      <td>Male</td>\n",
       "      <td>No</td>\n",
       "      <td>0</td>\n",
       "      <td>Graduate</td>\n",
       "      <td>No</td>\n",
       "      <td>584900</td>\n",
       "      <td>0.0</td>\n",
       "      <td>15000000</td>\n",
       "      <td>360.0</td>\n",
       "      <td>1.0</td>\n",
       "      <td>Urban</td>\n",
       "      <td>Y</td>\n",
       "    </tr>\n",
       "    <tr>\n",
       "      <th>1</th>\n",
       "      <td>Male</td>\n",
       "      <td>Yes</td>\n",
       "      <td>1</td>\n",
       "      <td>Graduate</td>\n",
       "      <td>No</td>\n",
       "      <td>458300</td>\n",
       "      <td>150800.0</td>\n",
       "      <td>12800000</td>\n",
       "      <td>360.0</td>\n",
       "      <td>1.0</td>\n",
       "      <td>Rural</td>\n",
       "      <td>N</td>\n",
       "    </tr>\n",
       "    <tr>\n",
       "      <th>2</th>\n",
       "      <td>Male</td>\n",
       "      <td>Yes</td>\n",
       "      <td>0</td>\n",
       "      <td>Graduate</td>\n",
       "      <td>Yes</td>\n",
       "      <td>300000</td>\n",
       "      <td>0.0</td>\n",
       "      <td>6600000</td>\n",
       "      <td>360.0</td>\n",
       "      <td>1.0</td>\n",
       "      <td>Urban</td>\n",
       "      <td>Y</td>\n",
       "    </tr>\n",
       "    <tr>\n",
       "      <th>3</th>\n",
       "      <td>Male</td>\n",
       "      <td>Yes</td>\n",
       "      <td>0</td>\n",
       "      <td>Not Graduate</td>\n",
       "      <td>No</td>\n",
       "      <td>258300</td>\n",
       "      <td>235800.0</td>\n",
       "      <td>12000000</td>\n",
       "      <td>360.0</td>\n",
       "      <td>1.0</td>\n",
       "      <td>Urban</td>\n",
       "      <td>Y</td>\n",
       "    </tr>\n",
       "    <tr>\n",
       "      <th>4</th>\n",
       "      <td>Male</td>\n",
       "      <td>No</td>\n",
       "      <td>0</td>\n",
       "      <td>Graduate</td>\n",
       "      <td>No</td>\n",
       "      <td>600000</td>\n",
       "      <td>0.0</td>\n",
       "      <td>14100000</td>\n",
       "      <td>360.0</td>\n",
       "      <td>1.0</td>\n",
       "      <td>Urban</td>\n",
       "      <td>Y</td>\n",
       "    </tr>\n",
       "  </tbody>\n",
       "</table>\n",
       "</div>"
      ],
      "text/plain": [
       "  Gender Married Dependents     Education Self_Employed  Applicant_Income  \\\n",
       "0   Male      No          0      Graduate            No            584900   \n",
       "1   Male     Yes          1      Graduate            No            458300   \n",
       "2   Male     Yes          0      Graduate           Yes            300000   \n",
       "3   Male     Yes          0  Not Graduate            No            258300   \n",
       "4   Male      No          0      Graduate            No            600000   \n",
       "\n",
       "   Coapplicant_Income  Loan_Amount   Term  Credit_History   Area Status  \n",
       "0                 0.0     15000000  360.0             1.0  Urban      Y  \n",
       "1            150800.0     12800000  360.0             1.0  Rural      N  \n",
       "2                 0.0      6600000  360.0             1.0  Urban      Y  \n",
       "3            235800.0     12000000  360.0             1.0  Urban      Y  \n",
       "4                 0.0     14100000  360.0             1.0  Urban      Y  "
      ]
     },
     "execution_count": 3,
     "metadata": {},
     "output_type": "execute_result"
    }
   ],
   "source": [
    "df.head()"
   ]
  },
  {
   "cell_type": "code",
   "execution_count": 4,
   "id": "d57459cd",
   "metadata": {
    "scrolled": true
   },
   "outputs": [
    {
     "name": "stdout",
     "output_type": "stream",
     "text": [
      "<class 'pandas.core.frame.DataFrame'>\n",
      "RangeIndex: 614 entries, 0 to 613\n",
      "Data columns (total 12 columns):\n",
      " #   Column              Non-Null Count  Dtype  \n",
      "---  ------              --------------  -----  \n",
      " 0   Gender              601 non-null    object \n",
      " 1   Married             611 non-null    object \n",
      " 2   Dependents          599 non-null    object \n",
      " 3   Education           614 non-null    object \n",
      " 4   Self_Employed       582 non-null    object \n",
      " 5   Applicant_Income    614 non-null    int64  \n",
      " 6   Coapplicant_Income  614 non-null    float64\n",
      " 7   Loan_Amount         614 non-null    int64  \n",
      " 8   Term                600 non-null    float64\n",
      " 9   Credit_History      564 non-null    float64\n",
      " 10  Area                614 non-null    object \n",
      " 11  Status              614 non-null    object \n",
      "dtypes: float64(3), int64(2), object(7)\n",
      "memory usage: 57.7+ KB\n"
     ]
    }
   ],
   "source": [
    "df.info()"
   ]
  },
  {
   "cell_type": "code",
   "execution_count": 5,
   "id": "dc7601d7",
   "metadata": {},
   "outputs": [
    {
     "data": {
      "text/plain": [
       "Gender                13\n",
       "Married                3\n",
       "Dependents            15\n",
       "Education              0\n",
       "Self_Employed         32\n",
       "Applicant_Income       0\n",
       "Coapplicant_Income     0\n",
       "Loan_Amount            0\n",
       "Term                  14\n",
       "Credit_History        50\n",
       "Area                   0\n",
       "Status                 0\n",
       "dtype: int64"
      ]
     },
     "execution_count": 5,
     "metadata": {},
     "output_type": "execute_result"
    }
   ],
   "source": [
    "df.isnull().sum()"
   ]
  },
  {
   "cell_type": "code",
   "execution_count": 7,
   "id": "6ca65bfd",
   "metadata": {},
   "outputs": [],
   "source": [
    "#create a total income column\n",
    "df['TotalIncome'] = df['Applicant_Income'] + df['Coapplicant_Income']"
   ]
  },
  {
   "cell_type": "code",
   "execution_count": 8,
   "id": "60499c9e",
   "metadata": {},
   "outputs": [
    {
     "data": {
      "text/plain": [
       "Index(['Gender', 'Married', 'Dependents', 'Education', 'Self_Employed',\n",
       "       'Applicant_Income', 'Coapplicant_Income', 'Loan_Amount', 'Term',\n",
       "       'Credit_History', 'Area', 'Status', 'TotalIncome'],\n",
       "      dtype='object')"
      ]
     },
     "execution_count": 8,
     "metadata": {},
     "output_type": "execute_result"
    }
   ],
   "source": [
    "df.columns"
   ]
  },
  {
   "cell_type": "code",
   "execution_count": 14,
   "id": "bc4d9bca",
   "metadata": {},
   "outputs": [
    {
     "data": {
      "text/plain": [
       "Gender                0\n",
       "Married               0\n",
       "Dependents            0\n",
       "Education             0\n",
       "Self_Employed         0\n",
       "Applicant_Income      0\n",
       "Coapplicant_Income    0\n",
       "Loan_Amount           0\n",
       "Term                  0\n",
       "Credit_History        0\n",
       "Area                  0\n",
       "Status                0\n",
       "TotalIncome           0\n",
       "dtype: int64"
      ]
     },
     "execution_count": 14,
     "metadata": {},
     "output_type": "execute_result"
    }
   ],
   "source": [
    "#handle missing values\n",
    "df['Gender'].fillna(df['Gender'].mode()[0], inplace = True)\n",
    "df['Married'].fillna(df['Married'].mode()[0], inplace = True)\n",
    "df['Self_Employed'].fillna(df['Self_Employed'].mode()[0], inplace = True)\n",
    "df['Dependents'].fillna(df['Dependents'].mode()[0], inplace = True)\n",
    "df['Term'].fillna(df['Term'].mode()[0], inplace = True)\n",
    "df['Credit_History'].fillna(df['Credit_History'].mode()[0], inplace = True)\n",
    "df.isnull().sum()"
   ]
  },
  {
   "cell_type": "code",
   "execution_count": 16,
   "id": "6f25252a",
   "metadata": {},
   "outputs": [
    {
     "name": "stdout",
     "output_type": "stream",
     "text": [
      "# of Applicants by Marital Status\n",
      "Yes    401\n",
      "No     213\n",
      "Name: Married, dtype: int64\n"
     ]
    },
    {
     "data": {
      "text/plain": [
       "<Axes: xlabel='Married', ylabel='count'>"
      ]
     },
     "execution_count": 16,
     "metadata": {},
     "output_type": "execute_result"
    },
    {
     "data": {
      "image/png": "[encoded data removed]",
      "text/plain": [
       "<Figure size 640x480 with 1 Axes>"
      ]
     },
     "metadata": {},
     "output_type": "display_data"
    }
   ],
   "source": [
    "print(\"# of Applicants by Marital Status\")\n",
    "print(df['Married'].value_counts())\n",
    "sns.countplot(x = 'Married', data = df)"
   ]
  },
  {
   "cell_type": "code",
   "execution_count": 17,
   "id": "1f14f8b9",
   "metadata": {},
   "outputs": [
    {
     "name": "stdout",
     "output_type": "stream",
     "text": [
      "# of Applicants by Gender\n",
      "Male      502\n",
      "Female    112\n",
      "Name: Gender, dtype: int64\n"
     ]
    },
    {
     "data": {
      "text/plain": [
       "<Axes: xlabel='Gender', ylabel='count'>"
      ]
     },
     "execution_count": 17,
     "metadata": {},
     "output_type": "execute_result"
    },
    {
     "data": {
      "image/png": "[encoded data removed]",
      "text/plain": [
       "<Figure size 640x480 with 1 Axes>"
      ]
     },
     "metadata": {},
     "output_type": "display_data"
    }
   ],
   "source": [
    "print(\"# of Applicants by Gender\")\n",
    "print(df['Gender'].value_counts())\n",
    "sns.countplot(x = 'Gender', data = df)"
   ]
  },
  {
   "cell_type": "code",
   "execution_count": 18,
   "id": "7eec1610",
   "metadata": {},
   "outputs": [
    {
     "name": "stdout",
     "output_type": "stream",
     "text": [
      "# of Applicants by Dependents\n",
      "0     360\n",
      "1     102\n",
      "2     101\n",
      "3+     51\n",
      "Name: Dependents, dtype: int64\n"
     ]
    },
    {
     "data": {
      "text/plain": [
       "<Axes: xlabel='Dependents', ylabel='count'>"
      ]
     },
     "execution_count": 18,
     "metadata": {},
     "output_type": "execute_result"
    },
    {
     "data": {
      "image/png": "[encoded data removed]",
      "text/plain": [
       "<Figure size 640x480 with 1 Axes>"
      ]
     },
     "metadata": {},
     "output_type": "display_data"
    }
   ],
   "source": [
    "print(\"# of Applicants by Dependents\")\n",
    "print(df['Dependents'].value_counts())\n",
    "sns.countplot(x = 'Dependents', data = df)"
   ]
  },
  {
   "cell_type": "code",
   "execution_count": 19,
   "id": "391c493c",
   "metadata": {},
   "outputs": [
    {
     "name": "stdout",
     "output_type": "stream",
     "text": [
      "# of Applicants by Self-Employed\n",
      "No     532\n",
      "Yes     82\n",
      "Name: Self_Employed, dtype: int64\n"
     ]
    },
    {
     "data": {
      "text/plain": [
       "<Axes: xlabel='Self_Employed', ylabel='count'>"
      ]
     },
     "execution_count": 19,
     "metadata": {},
     "output_type": "execute_result"
    },
    {
     "data": {
      "image/png": "[encoded data removed]",
      "text/plain": [
       "<Figure size 640x480 with 1 Axes>"
      ]
     },
     "metadata": {},
     "output_type": "display_data"
    }
   ],
   "source": [
    "print(\"# of Applicants by Self-Employed\")\n",
    "print(df['Self_Employed'].value_counts())\n",
    "sns.countplot(x = 'Self_Employed', data = df)"
   ]
  },
  {
   "cell_type": "code",
   "execution_count": 20,
   "id": "73de8e06",
   "metadata": {},
   "outputs": [
    {
     "name": "stdout",
     "output_type": "stream",
     "text": [
      "# of Applicants by Education\n",
      "Graduate        480\n",
      "Not Graduate    134\n",
      "Name: Education, dtype: int64\n"
     ]
    },
    {
     "data": {
      "text/plain": [
       "<Axes: xlabel='Education', ylabel='count'>"
      ]
     },
     "execution_count": 20,
     "metadata": {},
     "output_type": "execute_result"
    },
    {
     "data": {
      "image/png": "[encoded data removed]",
      "text/plain": [
       "<Figure size 640x480 with 1 Axes>"
      ]
     },
     "metadata": {},
     "output_type": "display_data"
    }
   ],
   "source": [
    "print(\"# of Applicants by Education\")\n",
    "print(df['Education'].value_counts())\n",
    "sns.countplot(x = 'Education', data = df)"
   ]
  },
  {
   "cell_type": "code",
   "execution_count": 21,
   "id": "a68b54cf",
   "metadata": {},
   "outputs": [
    {
     "name": "stdout",
     "output_type": "stream",
     "text": [
      "# of Applicants by Credit History\n",
      "1.0    525\n",
      "0.0     89\n",
      "Name: Credit_History, dtype: int64\n"
     ]
    },
    {
     "data": {
      "text/plain": [
       "<Axes: xlabel='Credit_History', ylabel='count'>"
      ]
     },
     "execution_count": 21,
     "metadata": {},
     "output_type": "execute_result"
    },
    {
     "data": {
      "image/png": "[encoded data removed]",
      "text/plain": [
       "<Figure size 640x480 with 1 Axes>"
      ]
     },
     "metadata": {},
     "output_type": "display_data"
    }
   ],
   "source": [
    "print(\"# of Applicants by Credit History\")\n",
    "print(df['Credit_History'].value_counts())\n",
    "sns.countplot(x = 'Credit_History', data = df)"
   ]
  },
  {
   "cell_type": "code",
   "execution_count": 22,
   "id": "c09d02eb",
   "metadata": {},
   "outputs": [],
   "source": [
    "#feature engineering on influential feature, Credit_History\n",
    "df['Good_Credit_History'] = df['Credit_History'].apply(lambda x: 1 if x == 1 else 0)"
   ]
  },
  {
   "cell_type": "code",
   "execution_count": 23,
   "id": "6265998e",
   "metadata": {},
   "outputs": [],
   "source": [
    "from sklearn.model_selection import train_test_split\n",
    "from sklearn.preprocessing import LabelEncoder, MinMaxScaler\n",
    "from sklearn.ensemble import RandomForestClassifier\n",
    "from sklearn.metrics import accuracy_score, classification_report"
   ]
  },
  {
   "cell_type": "code",
   "execution_count": 26,
   "id": "3be32ef8",
   "metadata": {},
   "outputs": [],
   "source": [
    "le = LabelEncoder()\n",
    "df['Gender'] = le.fit_transform(df['Gender'])\n",
    "df['Married'] = le.fit_transform(df['Married'])\n",
    "df['Dependents'] = le.fit_transform(df['Dependents'])\n",
    "df['Education'] = le.fit_transform(df['Education'])\n",
    "df['Self_Employed'] = le.fit_transform(df['Self_Employed'])\n",
    "df['Area'] = le.fit_transform(df['Area'])\n",
    "df['Status'] = le.fit_transform(df['Status'])\n",
    "df['Good_Credit_History'] = le.fit_transform(df['Good_Credit_History'])"
   ]
  },
  {
   "cell_type": "code",
   "execution_count": 30,
   "id": "f2d2fd76",
   "metadata": {},
   "outputs": [],
   "source": [
    "#identify our target feature: Loan_Status\n",
    "X = df.drop('Status', axis=1)\n",
    "y = df['Status']\n",
    "\n",
    "#normalize numeric features\n",
    "scaler = MinMaxScaler()\n",
    "X_scaled = pd.DataFrame(scaler.fit_transform(X), columns=X.columns)"
   ]
  },
  {
   "cell_type": "code",
   "execution_count": 31,
   "id": "8b856910",
   "metadata": {},
   "outputs": [],
   "source": [
    "X_train, X_test, y_train, y_test = train_test_split(X_scaled, y, test_size=0.2, random_state=42)"
   ]
  },
  {
   "cell_type": "code",
   "execution_count": 32,
   "id": "d7204d2d",
   "metadata": {},
   "outputs": [
    {
     "name": "stdout",
     "output_type": "stream",
     "text": [
      "Accuracy: 78.86%\n",
      "              precision    recall  f1-score   support\n",
      "\n",
      "           0       0.90      0.44      0.59        43\n",
      "           1       0.76      0.97      0.86        80\n",
      "\n",
      "    accuracy                           0.79       123\n",
      "   macro avg       0.83      0.71      0.73       123\n",
      "weighted avg       0.81      0.79      0.77       123\n",
      "\n"
     ]
    }
   ],
   "source": [
    "#Random forest model\n",
    "model = RandomForestClassifier()\n",
    "model.fit(X_train, y_train)\n",
    "\n",
    "y_pred = model.predict(X_test)\n",
    "\n",
    "accuracy = accuracy_score(y_test, y_pred)\n",
    "print(f\"Accuracy: {accuracy * 100:.2f}%\")\n",
    "print(classification_report(y_test, y_pred))"
   ]
  },
  {
   "cell_type": "code",
   "execution_count": 33,
   "id": "f91acb82",
   "metadata": {},
   "outputs": [
    {
     "name": "stdout",
     "output_type": "stream",
     "text": [
      "Accuracy: 78.86%\n",
      "              precision    recall  f1-score   support\n",
      "\n",
      "           0       0.95      0.42      0.58        43\n",
      "           1       0.76      0.99      0.86        80\n",
      "\n",
      "    accuracy                           0.79       123\n",
      "   macro avg       0.85      0.70      0.72       123\n",
      "weighted avg       0.83      0.79      0.76       123\n",
      "\n"
     ]
    }
   ],
   "source": [
    "#Logistic regression model\n",
    "from sklearn.linear_model import LogisticRegression\n",
    "\n",
    "model2 = LogisticRegression()\n",
    "model2.fit(X_train, y_train)\n",
    "\n",
    "y_pred2 = model2.predict(X_test)\n",
    "\n",
    "accuracy = accuracy_score(y_test, y_pred2)\n",
    "print(f\"Accuracy: {accuracy * 100:.2f}%\")\n",
    "print(classification_report(y_test, y_pred2))"
   ]
  },
  {
   "cell_type": "code",
   "execution_count": 34,
   "id": "a0b77fc9",
   "metadata": {},
   "outputs": [
    {
     "name": "stdout",
     "output_type": "stream",
     "text": [
      "Accuracy: 77.24%\n",
      "              precision    recall  f1-score   support\n",
      "\n",
      "           0       0.86      0.42      0.56        43\n",
      "           1       0.75      0.96      0.85        80\n",
      "\n",
      "    accuracy                           0.77       123\n",
      "   macro avg       0.81      0.69      0.70       123\n",
      "weighted avg       0.79      0.77      0.75       123\n",
      "\n"
     ]
    }
   ],
   "source": [
    "#K-nearest neighbors classifier\n",
    "from sklearn.neighbors import KNeighborsClassifier\n",
    "\n",
    "model3 = KNeighborsClassifier()\n",
    "model3.fit(X_train, y_train)\n",
    "\n",
    "y_pred3 = model3.predict(X_test)\n",
    "\n",
    "accuracy = accuracy_score(y_test, y_pred3)\n",
    "print(f\"Accuracy: {accuracy * 100:.2f}%\")\n",
    "print(classification_report(y_test, y_pred3))"
   ]
  },
  {
   "cell_type": "code",
   "execution_count": 35,
   "id": "d82d80d2",
   "metadata": {},
   "outputs": [
    {
     "name": "stdout",
     "output_type": "stream",
     "text": [
      "Accuracy: 78.05%\n",
      "              precision    recall  f1-score   support\n",
      "\n",
      "           0       0.90      0.42      0.57        43\n",
      "           1       0.76      0.97      0.85        80\n",
      "\n",
      "    accuracy                           0.78       123\n",
      "   macro avg       0.83      0.70      0.71       123\n",
      "weighted avg       0.81      0.78      0.75       123\n",
      "\n"
     ]
    }
   ],
   "source": [
    "#Naive Bayes\n",
    "from sklearn.naive_bayes import GaussianNB\n",
    "\n",
    "model4 = GaussianNB()\n",
    "model4.fit(X_train, y_train)\n",
    "\n",
    "y_pred4 = model4.predict(X_test)\n",
    "\n",
    "accuracy = accuracy_score(y_test, y_pred4)\n",
    "print(f\"Accuracy: {accuracy * 100:.2f}%\")\n",
    "print(classification_report(y_test, y_pred4))"
   ]
  },
  {
   "cell_type": "markdown",
   "id": "764e1f12",
   "metadata": {},
   "source": [
    "Logistic Regression & Random Forest Model seem to be our best-performing models, for our project."
   ]
  },
  {
   "cell_type": "code",
   "execution_count": 36,
   "id": "49f6cd08",
   "metadata": {},
   "outputs": [
    {
     "name": "stdout",
     "output_type": "stream",
     "text": [
      "Best Parameters: {'C': 0.1}\n"
     ]
    }
   ],
   "source": [
    "from sklearn.model_selection import GridSearchCV\n",
    "\n",
    "param_grid = {'C': [0.001, 0.01, 0.1, 1, 10, 100]}\n",
    "\n",
    "grid_search = GridSearchCV(LogisticRegression(), param_grid, cv=5, scoring='accuracy')\n",
    "grid_search.fit(X_train, y_train)\n",
    "\n",
    "best_params = grid_search.best_params_\n",
    "print(f\"Best Parameters: {best_params}\")"
   ]
  },
  {
   "cell_type": "code",
   "execution_count": 37,
   "id": "3338329c",
   "metadata": {},
   "outputs": [
    {
     "name": "stdout",
     "output_type": "stream",
     "text": [
      "Final Model Accuracy: 78.86%\n",
      "              precision    recall  f1-score   support\n",
      "\n",
      "           0       0.95      0.42      0.58        43\n",
      "           1       0.76      0.99      0.86        80\n",
      "\n",
      "    accuracy                           0.79       123\n",
      "   macro avg       0.85      0.70      0.72       123\n",
      "weighted avg       0.83      0.79      0.76       123\n",
      "\n"
     ]
    }
   ],
   "source": [
    "final_model = LogisticRegression(C=0.1)\n",
    "final_model.fit(X_train, y_train)\n",
    "\n",
    "final_predictions = final_model.predict(X_test)\n",
    "final_accuracy = accuracy_score(y_test, final_predictions)\n",
    "print(f\"Final Model Accuracy: {final_accuracy * 100:.2f}%\")\n",
    "print(classification_report(y_test, final_predictions))"
   ]
  },
  {
   "cell_type": "code",
   "execution_count": 38,
   "id": "990fe2f9",
   "metadata": {},
   "outputs": [
    {
     "name": "stdout",
     "output_type": "stream",
     "text": [
      "Gender: -0.0637270370201183\n",
      "Married: 0.35812971630739027\n",
      "Dependents: 0.10576779499624377\n",
      "Education: -0.1712385945191184\n",
      "Self_Employed: 0.03387911649668364\n",
      "Applicant_Income: -0.034355304122073445\n",
      "Coapplicant_Income: -0.11588535321260894\n",
      "Loan_Amount: -0.08514854991196819\n",
      "Term: 0.020581648126755097\n",
      "Credit_History: 1.1558763855733913\n",
      "Area: 0.09005380029055608\n",
      "TotalIncome: -0.09558502999982602\n",
      "Good_Credit_History: 1.1558763855733925\n"
     ]
    },
    {
     "data": {
      "image/png": "[encoded data removed]",
      "text/plain": [
       "<Figure size 1000x600 with 1 Axes>"
      ]
     },
     "metadata": {},
     "output_type": "display_data"
    }
   ],
   "source": [
    "coefficients = final_model.coef_[0]\n",
    "feature_names = X.columns\n",
    "\n",
    "for feature, coef in zip(feature_names, coefficients):\n",
    "    print(f\"{feature}: {coef}\")\n",
    "    \n",
    "plt.figure(figsize=(10, 6))\n",
    "plt.barh(feature_names, coefficients)\n",
    "plt.xlabel('Coefficient Value')\n",
    "plt.title('Feature Coefficients in Logistic Regression')\n",
    "plt.show()"
   ]
  }
 ],
 "metadata": {
  "kernelspec": {
   "display_name": "Python 3 (ipykernel)",
   "language": "python",
   "name": "python3"
  },
  "language_info": {
   "codemirror_mode": {
    "name": "ipython",
    "version": 3
   },
   "file_extension": ".py",
   "mimetype": "text/x-python",
   "name": "python",
   "nbconvert_exporter": "python",
   "pygments_lexer": "ipython3",
   "version": "3.10.9"
  }
 },
 "nbformat": 4,
 "nbformat_minor": 5
}
